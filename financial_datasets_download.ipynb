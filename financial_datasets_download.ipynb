{
  "nbformat": 4,
  "nbformat_minor": 0,
  "metadata": {
    "colab": {
      "provenance": []
    },
    "kernelspec": {
      "name": "python3",
      "display_name": "Python 3"
    },
    "language_info": {
      "name": "python"
    }
  },
  "cells": [
    {
      "cell_type": "code",
      "execution_count": 2,
      "metadata": {
        "id": "NbXFfxVtHDmy"
      },
      "outputs": [],
      "source": [
        "import yfinance as yf\n",
        "import pandas as pd\n",
        "import numpy as np"
      ]
    },
    {
      "cell_type": "code",
      "source": [
        "tickers = ['AAPL', 'NVDA', 'TSLA'] # Insert tickers"
      ],
      "metadata": {
        "id": "ke9glA_OHL-R"
      },
      "execution_count": 3,
      "outputs": []
    },
    {
      "cell_type": "code",
      "source": [
        "start_date = '2020-1-1' # Start date of your analysis\n",
        "end_date = '2025-9-28' # End date of your analysis"
      ],
      "metadata": {
        "id": "i0wnONZIHTVK"
      },
      "execution_count": 4,
      "outputs": []
    },
    {
      "cell_type": "code",
      "source": [
        "data = yf.download(tickers, start = start_date, end = end_date, multi_level_index=False, auto_adjust = False)['Adj Close']\n",
        "print(data)"
      ],
      "metadata": {
        "colab": {
          "base_uri": "https://localhost:8080/"
        },
        "id": "SbnjYRI2HE_z",
        "outputId": "ae5a0dfe-206e-4870-a178-1af5fd053ddd"
      },
      "execution_count": 6,
      "outputs": [
        {
          "output_type": "stream",
          "name": "stderr",
          "text": [
            "[*********************100%***********************]  3 of 3 completed\n"
          ]
        },
        {
          "output_type": "stream",
          "name": "stdout",
          "text": [
            "Ticker            AAPL        NVDA        TSLA\n",
            "Date                                          \n",
            "2020-01-02   72.538498    5.971746   28.684000\n",
            "2020-01-03   71.833305    5.876162   29.534000\n",
            "2020-01-06   72.405678    5.900805   30.102667\n",
            "2020-01-07   72.065155    5.972245   31.270666\n",
            "2020-01-08   73.224419    5.983447   32.809334\n",
            "...                ...         ...         ...\n",
            "2025-08-25  227.160004  179.809998  346.600006\n",
            "2025-08-26  229.309998  181.770004  351.670013\n",
            "2025-08-27  230.490005  181.600006  349.600006\n",
            "2025-08-28  232.559998  180.169998  345.980011\n",
            "2025-08-29  232.139999  174.179993  333.869995\n",
            "\n",
            "[1423 rows x 3 columns]\n"
          ]
        }
      ]
    }
  ]
}