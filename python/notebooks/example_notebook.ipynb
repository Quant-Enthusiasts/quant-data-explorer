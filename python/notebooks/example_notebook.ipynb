{
 "cells": [
  {
   "cell_type": "code",
   "source": ["print('Example notebook running')"],
   "metadata": {},
   "outputs": []
  }
 ],
 "metadata": {},
 "nbformat": 4,
 "nbformat_minor": 2
}
